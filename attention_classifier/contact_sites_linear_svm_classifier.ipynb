{
 "cells": [
  {
   "cell_type": "code",
   "execution_count": 1,
   "id": "e2b817e4",
   "metadata": {},
   "outputs": [
    {
     "name": "stdout",
     "output_type": "stream",
     "text": [
      "/Users/williamharrigan/Desktop/UH/Year_2/Research/py\n"
     ]
    }
   ],
   "source": [
    "cd /Users/williamharrigan/Desktop/UH/Year_2/Research/py/"
   ]
  },
  {
   "cell_type": "code",
   "execution_count": 2,
   "id": "2e12a85b",
   "metadata": {},
   "outputs": [
    {
     "name": "stdout",
     "output_type": "stream",
     "text": [
      "\u001b[34m__pycache__\u001b[m\u001b[m/                        myV_soft_align.py\r\n",
      "calculated_column_similarity.pkl    sa_longest_path.py\r\n",
      "column_similarity.pkl               soft_align.py\r\n",
      "extract_contacts_and_attentions.py\r\n"
     ]
    }
   ],
   "source": [
    "ls"
   ]
  },
  {
   "cell_type": "code",
   "execution_count": 3,
   "id": "1cbea00c",
   "metadata": {
    "scrolled": true
   },
   "outputs": [
    {
     "name": "stdout",
     "output_type": "stream",
     "text": [
      "ESM2(\n",
      "  (embed_tokens): Embedding(33, 1280, padding_idx=1)\n",
      "  (layers): ModuleList(\n",
      "    (0-32): 33 x TransformerLayer(\n",
      "      (self_attn): MultiheadAttention(\n",
      "        (k_proj): Linear(in_features=1280, out_features=1280, bias=True)\n",
      "        (v_proj): Linear(in_features=1280, out_features=1280, bias=True)\n",
      "        (q_proj): Linear(in_features=1280, out_features=1280, bias=True)\n",
      "        (out_proj): Linear(in_features=1280, out_features=1280, bias=True)\n",
      "        (rot_emb): RotaryEmbedding()\n",
      "      )\n",
      "      (self_attn_layer_norm): LayerNorm((1280,), eps=1e-05, elementwise_affine=True)\n",
      "      (fc1): Linear(in_features=1280, out_features=5120, bias=True)\n",
      "      (fc2): Linear(in_features=5120, out_features=1280, bias=True)\n",
      "      (final_layer_norm): LayerNorm((1280,), eps=1e-05, elementwise_affine=True)\n",
      "    )\n",
      "  )\n",
      "  (contact_head): ContactPredictionHead(\n",
      "    (regression): Linear(in_features=660, out_features=1, bias=True)\n",
      "    (activation): Sigmoid()\n",
      "  )\n",
      "  (emb_layer_norm_after): LayerNorm((1280,), eps=1e-05, elementwise_affine=True)\n",
      "  (lm_head): RobertaLMHead(\n",
      "    (dense): Linear(in_features=1280, out_features=1280, bias=True)\n",
      "    (layer_norm): LayerNorm((1280,), eps=1e-05, elementwise_affine=True)\n",
      "  )\n",
      ")\n"
     ]
    }
   ],
   "source": [
    "from extract_contacts_and_attentions import *"
   ]
  },
  {
   "cell_type": "code",
   "execution_count": 4,
   "id": "e6294372",
   "metadata": {},
   "outputs": [],
   "source": [
    "warnings.simplefilter('ignore', PDBConstructionWarning)\n",
    "parser = PDBParser()  "
   ]
  },
  {
   "cell_type": "code",
   "execution_count": null,
   "id": "0b7780d5",
   "metadata": {},
   "outputs": [],
   "source": [
    "def check_sequences(pdb_id, protein_data):  \n",
    "    # Parse pdb file and save as structure. The pdb file is where we are getting CA coordinates from.\n",
    "    structure = parser.get_structure(pdb_id, f\"{structure_dir+pdb_id}.pdb\")\n",
    "\n",
    "    # Extract desired protein structure from PDB structure (typically only 1 structure to choose from)\n",
    "    protein_structure = structure[0]\n",
    "\n",
    "    residue_position = 0\n",
    "    mismatches = 0\n",
    "#     print(pdb_id)\n",
    "    if 'A' in protein_structure:\n",
    "        for residue in protein_structure['A']:\n",
    "            if 'CA' in residue:\n",
    "                if residue_position < len(protein_data[pdb_id]):\n",
    "                    if simple_aa(residue.resname) != protein_data[pdb_id][residue_position]:\n",
    "#                         print(residue.id[1], simple_aa(residue.resname), protein_data[pdb_id][residue_position])\n",
    "                        mismatches+=1\n",
    "            residue_position+=1\n",
    "        if mismatches == 0:\n",
    "#             same_sequence_ids.append(pdb_id)\n",
    "            return pdb_id\n"
   ]
  },
  {
   "cell_type": "code",
   "execution_count": null,
   "id": "96663a9b",
   "metadata": {},
   "outputs": [],
   "source": [
    "def check_casp_pdb_seqs(protein_data):\n",
    "    same_sequence_ids = []\n",
    "    iterations = 0\n",
    "    for pdb_id, protein_sequence in list(protein_data.items()):\n",
    "#         print(\"Iterations: \", iterations)\n",
    "#         print('Sequence ID: ', pdb_id)\n",
    "#         check_sequences(pdb_id)\n",
    "#         print('No mismatches in pdb sequence and pulled sequence: ', check_sequences(pdb_id))\n",
    "        if check_sequences(pdb_id, protein_data) == None:\n",
    "            continue\n",
    "        else:\n",
    "            same_sequence_ids.append(pdb_id)\n",
    "        iterations+=1\n",
    "    return same_sequence_ids"
   ]
  },
  {
   "cell_type": "code",
   "execution_count": null,
   "id": "15d32be2",
   "metadata": {},
   "outputs": [],
   "source": [
    "def calc_contact_sites(pdb_id, protein_data, in_contact_sites, non_contact_sites, subset_non_contact_sites):\n",
    "    parser = PDBParser()\n",
    "    structure = parser.get_structure(pdb_id, f\"{structure_dir}/{pdb_id}.pdb\")  # Ensure correct path joining\n",
    "    protein_structure = structure[0]\n",
    "    chain = protein_structure['A']\n",
    "\n",
    "    # Initialize count variable\n",
    "    count = 0\n",
    "\n",
    "    for i, residue1 in enumerate(chain):\n",
    "        for j, residue2 in enumerate(chain):\n",
    "            if i <= j:\n",
    "                continue # Avoids redundant comparisons and self-comparison\n",
    "            if residue1.id[1] > len(protein_data[pdb_id]) or residue2.id[1] > len(protein_data[pdb_id]):\n",
    "                continue\n",
    "            try:\n",
    "                distance = abs(residue1['CA'] - residue2['CA'])\n",
    "            except KeyError:\n",
    "                continue\n",
    "            if distance < 5:\n",
    "                if abs(residue1.id[1] - residue2.id[1]) > 2:\n",
    "    #                 print(residue1.id[1], residue1.resname, residue2.id[1], residue2.resname, distance)\n",
    "                    in_contact_sites[pdb_id].append({\n",
    "                        'res_1': residue1.id[1], \n",
    "                        'res_2': residue2.id[1], \n",
    "                        'sig_1': simple_aa(residue1.resname), \n",
    "                        'sig_2': simple_aa(residue2.resname), \n",
    "                        'dist': distance,\n",
    "                        'in_contact': True\n",
    "                    })\n",
    "                    count += 1\n",
    "            else:\n",
    "                if abs(residue1.id[1] - residue2.id[1]) > 2:\n",
    "                    non_contact_sites[pdb_id].append({\n",
    "                        'res_1': residue1.id[1], \n",
    "                        'res_2': residue2.id[1], \n",
    "                        'sig_1': simple_aa(residue1.resname), \n",
    "                        'sig_2': simple_aa(residue2.resname), \n",
    "                        'dist': distance,\n",
    "                        'in_contact': False\n",
    "                    })\n",
    "\n",
    "    if non_contact_sites[pdb_id]:\n",
    "        subset_non_contact_sites[pdb_id] = random.sample(non_contact_sites[pdb_id], min(len(non_contact_sites[pdb_id]), len(in_contact_sites[pdb_id])))\n",
    "\n",
    "    # Optionally print or process the results\n",
    "    return f\"Total contacts found {pdb_id}: {count}\""
   ]
  },
  {
   "cell_type": "code",
   "execution_count": null,
   "id": "ceeb8532",
   "metadata": {},
   "outputs": [],
   "source": [
    "def contacts_per_pdb(same_sequence_ids, protein_data):\n",
    "\n",
    "    in_contact_sites = defaultdict(list)\n",
    "    non_contact_sites = defaultdict(list)\n",
    "    subset_non_contact_sites = defaultdict(list)\n",
    "\n",
    "    iterations = 0\n",
    "\n",
    "    for pdb_id in same_sequence_ids:\n",
    "        calc_contact_sites(pdb_id, protein_data, in_contact_sites, non_contact_sites, subset_non_contact_sites)\n",
    "#         print(calc_contact_sites(pdb_id, in_contact_sites, non_contact_sites, subset_non_contact_sites))\n",
    "#         print(len(in_contact_sites[pdb_id]), len(subset_non_contact_sites[pdb_id]))\n",
    "#         print(\"Iterations: \", iterations)\n",
    "        iterations+=1\n",
    "        \n",
    "    return in_contact_sites, non_contact_sites, subset_non_contact_sites"
   ]
  },
  {
   "cell_type": "code",
   "execution_count": null,
   "id": "d9139ddb",
   "metadata": {},
   "outputs": [],
   "source": [
    "# Initialize contact_data as a defaultdict of lists\n",
    "\n",
    "def generate_contact_data(in_contact_sites, subset_non_contact_sites):\n",
    "\n",
    "    contact_data = defaultdict(list)\n",
    "\n",
    "    # Add data from in_contact_sites\n",
    "    for pdb_id, contacts in in_contact_sites.items():\n",
    "        for contact in contacts:\n",
    "            contact_data[pdb_id].append({\n",
    "                'res_1': contact['res_1'],\n",
    "                'res_2': contact['res_2'],\n",
    "                'sig_1': contact['sig_1'],\n",
    "                'sig_2': contact['sig_2'],\n",
    "                'dist': contact['dist'],\n",
    "                'in_contact': contact['in_contact']\n",
    "            })\n",
    "\n",
    "    # Add data from subset_non_contact_sites\n",
    "    for pdb_id, non_contacts in subset_non_contact_sites.items():\n",
    "        for non_contact in non_contacts:\n",
    "            contact_data[pdb_id].append({\n",
    "                'res_1': non_contact['res_1'],\n",
    "                'res_2': non_contact['res_2'],\n",
    "                'sig_1': non_contact['sig_1'],\n",
    "                'sig_2': non_contact['sig_2'],\n",
    "                'dist': non_contact['dist'],\n",
    "                'in_contact': non_contact['in_contact']\n",
    "            })\n",
    "    return contact_data\n"
   ]
  },
  {
   "cell_type": "code",
   "execution_count": null,
   "id": "1093e09e",
   "metadata": {},
   "outputs": [],
   "source": [
    "# Index protein sequence as sequence 0 (next sequence would be indexed as 1)\n",
    "\n",
    "def generate_embeddings(pdb_id, protein_data):\n",
    "    protein_sequence = protein_data[pdb_id]\n",
    "    esm_input_data = [(0, protein_sequence)]\n",
    "    # print('Data: ', esm_input_data, '\\n')\n",
    "\n",
    "    # Prepare variables to input sequence into ESM-2 model \n",
    "    batch_converter = alphabet.get_batch_converter()\n",
    "    batch_labels, batch_strs, batch_tokens = batch_converter(esm_input_data)\n",
    "    batch_tokens = batch_tokens.cuda() if torch.cuda.is_available() else batch_tokens\n",
    "\n",
    "    # print('batch_tokens: ', '\\n\\n', batch_tokens, '\\n')\n",
    "\n",
    "    # 4. Input prepared sequence information into model and output as results (contact predictions are included in embedding)\n",
    "    with torch.no_grad():\n",
    "        results = model(batch_tokens, repr_layers=[33], return_contacts=True)\n",
    "\n",
    "    return results['attentions']"
   ]
  },
  {
   "cell_type": "code",
   "execution_count": null,
   "id": "9fd8cc48",
   "metadata": {},
   "outputs": [],
   "source": [
    "# Extract attentions from all heads and layers for given amino acid residues\n",
    "\n",
    "def get_x_y(attention_data, res_1, res_2):\n",
    "    vectors = []\n",
    "    for layer in range(0,33):\n",
    "        for head in range(0,20):\n",
    "            vectors.append(attention_data[0][layer][head][res_1][res_2])\n",
    "\n",
    "    return vectors\n"
   ]
  },
  {
   "cell_type": "code",
   "execution_count": null,
   "id": "b1d582e2",
   "metadata": {},
   "outputs": [],
   "source": [
    "def output_x_y(sequence_ids, contact_data, protein_data):\n",
    "    X = []\n",
    "    y = []\n",
    "    iterations = 0\n",
    "\n",
    "    for pdb_id in sequence_ids:\n",
    "        structure = parser.get_structure(pdb_id, f\"{structure_dir}/{pdb_id}.pdb\")  # Ensure correct path joining\n",
    "        protein_structure = structure[0]\n",
    "        chain = protein_structure['A']\n",
    "        first_residue = list(chain.get_residues())[0].id[1]\n",
    "        print('Iteration: ', iterations)\n",
    "        iterations+=1\n",
    "        if first_residue == 1:\n",
    "            attention_data = generate_embeddings(pdb_id, protein_data)\n",
    "            for i in contact_data[pdb_id]:\n",
    "                    X.append(get_x_y(attention_data, i['res_1'], i['res_2']))\n",
    "                    y.append(i['in_contact'])\n",
    "            else:\n",
    "                continue\n",
    "    return X,y\n",
    "\n"
   ]
  },
  {
   "cell_type": "code",
   "execution_count": 5,
   "id": "e38f05d4",
   "metadata": {
    "scrolled": true
   },
   "outputs": [],
   "source": [
    "# Get sequences from CASP7 file\n",
    "prot_data_dict = parse_casp7_file(casp_95)\n",
    "\n",
    "protein_id_counts = Counter(protein_id.split('_')[0] for protein_id in prot_data_dict)\n",
    "single_occurence_ids = [protein_id for protein_id, count in protein_id_counts.items() if count == 1]\n",
    "\n",
    "# protein_data = generate_fastas(single_occurence_ids)\n",
    "protein_data = load_fastas(fasta_dir)\n",
    "same_sequence_ids = check_casp_pdb_seqs(protein_data)\n",
    "in_contact_sites, non_contact_sites, subset_non_contact_sites = contacts_per_pdb(same_sequence_ids, protein_data)\n",
    "contact_data = generate_contact_data(in_contact_sites, subset_non_contact_sites)\n"
   ]
  },
  {
   "cell_type": "code",
   "execution_count": 6,
   "id": "7c590674",
   "metadata": {},
   "outputs": [
    {
     "name": "stdout",
     "output_type": "stream",
     "text": [
      "['1BUE', '1FK5', '1QK9']\n"
     ]
    }
   ],
   "source": [
    "seed_value = 67\n",
    "random.seed(seed_value)\n",
    "n_sequences = 3\n",
    "\n",
    "sequence_ids = random.sample(same_sequence_ids, n_sequences)\n",
    "# sequence_ids = same_sequence_ids\n",
    "print(sequence_ids[:5])"
   ]
  },
  {
   "cell_type": "markdown",
   "id": "c8dc97a2",
   "metadata": {},
   "source": [
    "## Linear SVC"
   ]
  },
  {
   "cell_type": "code",
   "execution_count": 7,
   "id": "a67d48bd",
   "metadata": {},
   "outputs": [],
   "source": [
    "from sklearn.svm import LinearSVC\n"
   ]
  },
  {
   "cell_type": "code",
   "execution_count": 8,
   "id": "d77b6c77",
   "metadata": {
    "scrolled": true
   },
   "outputs": [
    {
     "name": "stdout",
     "output_type": "stream",
     "text": [
      "Iteration:  0\n",
      "Iteration:  1\n",
      "Iteration:  2\n"
     ]
    }
   ],
   "source": [
    "X, y = output_x_y(sequence_ids, contact_data, protein_data)"
   ]
  },
  {
   "cell_type": "code",
   "execution_count": 9,
   "id": "7a5eec35",
   "metadata": {},
   "outputs": [],
   "source": [
    "X_train, X_test, y_train, y_test = train_test_split(X, y, test_size= 0.4, random_state=55)"
   ]
  },
  {
   "cell_type": "code",
   "execution_count": 10,
   "id": "75f50776",
   "metadata": {},
   "outputs": [
    {
     "name": "stderr",
     "output_type": "stream",
     "text": [
      "/Users/williamharrigan/anaconda3/lib/python3.11/site-packages/sklearn/svm/_classes.py:32: FutureWarning: The default value of `dual` will change from `True` to `'auto'` in 1.5. Set the value of `dual` explicitly to suppress the warning.\n",
      "  warnings.warn(\n"
     ]
    },
    {
     "data": {
      "text/html": [
       "<style>#sk-container-id-1 {color: black;}#sk-container-id-1 pre{padding: 0;}#sk-container-id-1 div.sk-toggleable {background-color: white;}#sk-container-id-1 label.sk-toggleable__label {cursor: pointer;display: block;width: 100%;margin-bottom: 0;padding: 0.3em;box-sizing: border-box;text-align: center;}#sk-container-id-1 label.sk-toggleable__label-arrow:before {content: \"▸\";float: left;margin-right: 0.25em;color: #696969;}#sk-container-id-1 label.sk-toggleable__label-arrow:hover:before {color: black;}#sk-container-id-1 div.sk-estimator:hover label.sk-toggleable__label-arrow:before {color: black;}#sk-container-id-1 div.sk-toggleable__content {max-height: 0;max-width: 0;overflow: hidden;text-align: left;background-color: #f0f8ff;}#sk-container-id-1 div.sk-toggleable__content pre {margin: 0.2em;color: black;border-radius: 0.25em;background-color: #f0f8ff;}#sk-container-id-1 input.sk-toggleable__control:checked~div.sk-toggleable__content {max-height: 200px;max-width: 100%;overflow: auto;}#sk-container-id-1 input.sk-toggleable__control:checked~label.sk-toggleable__label-arrow:before {content: \"▾\";}#sk-container-id-1 div.sk-estimator input.sk-toggleable__control:checked~label.sk-toggleable__label {background-color: #d4ebff;}#sk-container-id-1 div.sk-label input.sk-toggleable__control:checked~label.sk-toggleable__label {background-color: #d4ebff;}#sk-container-id-1 input.sk-hidden--visually {border: 0;clip: rect(1px 1px 1px 1px);clip: rect(1px, 1px, 1px, 1px);height: 1px;margin: -1px;overflow: hidden;padding: 0;position: absolute;width: 1px;}#sk-container-id-1 div.sk-estimator {font-family: monospace;background-color: #f0f8ff;border: 1px dotted black;border-radius: 0.25em;box-sizing: border-box;margin-bottom: 0.5em;}#sk-container-id-1 div.sk-estimator:hover {background-color: #d4ebff;}#sk-container-id-1 div.sk-parallel-item::after {content: \"\";width: 100%;border-bottom: 1px solid gray;flex-grow: 1;}#sk-container-id-1 div.sk-label:hover label.sk-toggleable__label {background-color: #d4ebff;}#sk-container-id-1 div.sk-serial::before {content: \"\";position: absolute;border-left: 1px solid gray;box-sizing: border-box;top: 0;bottom: 0;left: 50%;z-index: 0;}#sk-container-id-1 div.sk-serial {display: flex;flex-direction: column;align-items: center;background-color: white;padding-right: 0.2em;padding-left: 0.2em;position: relative;}#sk-container-id-1 div.sk-item {position: relative;z-index: 1;}#sk-container-id-1 div.sk-parallel {display: flex;align-items: stretch;justify-content: center;background-color: white;position: relative;}#sk-container-id-1 div.sk-item::before, #sk-container-id-1 div.sk-parallel-item::before {content: \"\";position: absolute;border-left: 1px solid gray;box-sizing: border-box;top: 0;bottom: 0;left: 50%;z-index: -1;}#sk-container-id-1 div.sk-parallel-item {display: flex;flex-direction: column;z-index: 1;position: relative;background-color: white;}#sk-container-id-1 div.sk-parallel-item:first-child::after {align-self: flex-end;width: 50%;}#sk-container-id-1 div.sk-parallel-item:last-child::after {align-self: flex-start;width: 50%;}#sk-container-id-1 div.sk-parallel-item:only-child::after {width: 0;}#sk-container-id-1 div.sk-dashed-wrapped {border: 1px dashed gray;margin: 0 0.4em 0.5em 0.4em;box-sizing: border-box;padding-bottom: 0.4em;background-color: white;}#sk-container-id-1 div.sk-label label {font-family: monospace;font-weight: bold;display: inline-block;line-height: 1.2em;}#sk-container-id-1 div.sk-label-container {text-align: center;}#sk-container-id-1 div.sk-container {/* jupyter's `normalize.less` sets `[hidden] { display: none; }` but bootstrap.min.css set `[hidden] { display: none !important; }` so we also need the `!important` here to be able to override the default hidden behavior on the sphinx rendered scikit-learn.org. See: https://github.com/scikit-learn/scikit-learn/issues/21755 */display: inline-block !important;position: relative;}#sk-container-id-1 div.sk-text-repr-fallback {display: none;}</style><div id=\"sk-container-id-1\" class=\"sk-top-container\"><div class=\"sk-text-repr-fallback\"><pre>LinearSVC(random_state=55)</pre><b>In a Jupyter environment, please rerun this cell to show the HTML representation or trust the notebook. <br />On GitHub, the HTML representation is unable to render, please try loading this page with nbviewer.org.</b></div><div class=\"sk-container\" hidden><div class=\"sk-item\"><div class=\"sk-estimator sk-toggleable\"><input class=\"sk-toggleable__control sk-hidden--visually\" id=\"sk-estimator-id-1\" type=\"checkbox\" checked><label for=\"sk-estimator-id-1\" class=\"sk-toggleable__label sk-toggleable__label-arrow\">LinearSVC</label><div class=\"sk-toggleable__content\"><pre>LinearSVC(random_state=55)</pre></div></div></div></div></div>"
      ],
      "text/plain": [
       "LinearSVC(random_state=55)"
      ]
     },
     "execution_count": 10,
     "metadata": {},
     "output_type": "execute_result"
    }
   ],
   "source": [
    "linear_svc = LinearSVC(random_state=55)\n",
    "linear_svc.fit(X_train, y_train)"
   ]
  },
  {
   "cell_type": "code",
   "execution_count": 11,
   "id": "04e4300f",
   "metadata": {},
   "outputs": [
    {
     "name": "stdout",
     "output_type": "stream",
     "text": [
      "Accuracy: 0.84\n"
     ]
    }
   ],
   "source": [
    "y_pred = linear_svc.predict(X_test)\n",
    "accuracy = accuracy_score(y_test, y_pred)\n",
    "print(f\"Accuracy: {accuracy:.2f}\")"
   ]
  }
 ],
 "metadata": {
  "kernelspec": {
   "display_name": "Python 3 (ipykernel)",
   "language": "python",
   "name": "python3"
  },
  "language_info": {
   "codemirror_mode": {
    "name": "ipython",
    "version": 3
   },
   "file_extension": ".py",
   "mimetype": "text/x-python",
   "name": "python",
   "nbconvert_exporter": "python",
   "pygments_lexer": "ipython3",
   "version": "3.11.5"
  }
 },
 "nbformat": 4,
 "nbformat_minor": 5
}
