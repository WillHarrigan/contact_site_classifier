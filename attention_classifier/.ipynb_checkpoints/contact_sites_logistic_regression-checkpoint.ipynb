{
 "cells": [
  {
   "cell_type": "code",
   "execution_count": null,
   "id": "306ae6d6",
   "metadata": {
    "scrolled": true
   },
   "outputs": [],
   "source": [
    "from extract_contacts_and_attentions import *"
   ]
  },
  {
   "cell_type": "code",
   "execution_count": null,
   "id": "d0cc01ad",
   "metadata": {},
   "outputs": [],
   "source": [
    "warnings.simplefilter('ignore', PDBConstructionWarning)\n",
    "parser = PDBParser()  "
   ]
  },
  {
   "cell_type": "code",
   "execution_count": null,
   "id": "81c1927d",
   "metadata": {
    "scrolled": true
   },
   "outputs": [],
   "source": [
    "# Get sequences from CASP7 file\n",
    "prot_data_dict = parse_casp7_file(casp_95)\n",
    "\n",
    "protein_id_counts = Counter(protein_id.split('_')[0] for protein_id in prot_data_dict)\n",
    "single_occurence_ids = [protein_id for protein_id, count in protein_id_counts.items() if count == 1]\n",
    "\n",
    "# protein_data = generate_fastas(single_occurence_ids)\n",
    "protein_data = load_fastas(fasta_dir)\n",
    "same_sequence_ids = check_casp_pdb_seqs(protein_data)\n",
    "in_contact_sites, non_contact_sites, subset_non_contact_sites = contacts_per_pdb(same_sequence_ids)\n",
    "contact_data = generate_contact_data(in_contact_sites, subset_non_contact_sites)\n"
   ]
  },
  {
   "cell_type": "code",
   "execution_count": null,
   "id": "dbcf10d1",
   "metadata": {},
   "outputs": [],
   "source": [
    "seed_value = 72\n",
    "random.seed(seed_value)\n",
    "n_sequences = 300\n",
    "\n",
    "sequence_ids = random.sample(same_sequence_ids, n_sequences)\n",
    "# sequence_ids = same_sequence_ids\n",
    "print(sequence_ids[:5])"
   ]
  },
  {
   "cell_type": "markdown",
   "id": "613c4801",
   "metadata": {},
   "source": [
    "## Logisitic Regression"
   ]
  },
  {
   "cell_type": "code",
   "execution_count": null,
   "id": "197f296c",
   "metadata": {},
   "outputs": [],
   "source": [
    "from sklearn.linear_model import LogisticRegression\n"
   ]
  },
  {
   "cell_type": "code",
   "execution_count": null,
   "id": "3a838df5",
   "metadata": {
    "scrolled": true
   },
   "outputs": [],
   "source": [
    "X, y = output_x_y(sequence_ids, contact_data)"
   ]
  },
  {
   "cell_type": "code",
   "execution_count": null,
   "id": "5bca60cf",
   "metadata": {},
   "outputs": [],
   "source": [
    "X_train, X_test, y_train, y_test = train_test_split(X, y, test_size= 0.4, random_state=55)"
   ]
  },
  {
   "cell_type": "code",
   "execution_count": null,
   "id": "16e49218",
   "metadata": {},
   "outputs": [],
   "source": [
    "linear_svc = LinearSVC(random_state=55)\n",
    "linear_svc.fit(X_train, y_train)"
   ]
  },
  {
   "cell_type": "code",
   "execution_count": null,
   "id": "be020624",
   "metadata": {},
   "outputs": [],
   "source": [
    "y_pred = linear_svc.predict(X_test)\n",
    "accuracy = accuracy_score(y_test, y_pred)\n",
    "print(f\"Accuracy: {accuracy:.2f}\")"
   ]
  }
 ],
 "metadata": {
  "kernelspec": {
   "display_name": "Python 3 (ipykernel)",
   "language": "python",
   "name": "python3"
  },
  "language_info": {
   "codemirror_mode": {
    "name": "ipython",
    "version": 3
   },
   "file_extension": ".py",
   "mimetype": "text/x-python",
   "name": "python",
   "nbconvert_exporter": "python",
   "pygments_lexer": "ipython3",
   "version": "3.11.5"
  }
 },
 "nbformat": 4,
 "nbformat_minor": 5
}
